{
 "cells": [
  {
   "cell_type": "markdown",
   "metadata": {},
   "source": [
    "# Packages"
   ]
  },
  {
   "cell_type": "markdown",
   "metadata": {},
   "source": [
    "1. Fungsi dot(.__())"
   ]
  },
  {
   "cell_type": "code",
   "execution_count": 1,
   "metadata": {},
   "outputs": [
    {
     "name": "stdout",
     "output_type": "stream",
     "text": [
      "Methods\n",
      "============================\n",
      "String\n",
      "poolhouse\n",
      "\n",
      "Penggunaan Methods .upper() dan Hasil dari place dan place_up\n",
      "Hasil place: poolhouse\n",
      "Hasil place_up: POOLHOUSE\n",
      "\n",
      "Penggunaan Methods .count()\n",
      "Hasil ada: 3 o\n",
      "\n",
      "Penggunaan .index() dan .count() pada Lists\n",
      "[11.25, 18.0, 20.0, 10.75, 9.5]\n",
      "\n",
      "Penggunaan areas.index(20.0) pada Lists\n",
      "Hasil: 2\n",
      "\n",
      "Penggunaan areas.count(9.50) pada Lists\n",
      "Hasil: 1\n"
     ]
    }
   ],
   "source": [
    "print(\"Methods\")\n",
    "print(\"============================\")\n",
    "\n",
    "print(\"String\")\n",
    "# string to experiment with: place\n",
    "place = \"poolhouse\"\n",
    "print(place)\n",
    "\n",
    "# Use upper() on place\n",
    "place_up = place.upper()\n",
    "\n",
    "print(\"\\nPenggunaan Methods .upper() dan Hasil dari place dan place_up\")\n",
    "# Print out place and place_up\n",
    "print(\"Hasil place:\", place)\n",
    "print(\"Hasil place_up:\", place_up)\n",
    "\n",
    "print(\"\\nPenggunaan Methods .count()\")\n",
    "# Print out the number of o's in place\n",
    "print(\"Hasil ada:\", place.count('o'), \"o\")\n",
    "\n",
    "print(\"\\nPenggunaan .index() dan .count() pada Lists\")\n",
    "# Create list areas\n",
    "areas = [11.25, 18.0, 20.0, 10.75, 9.50]\n",
    "print(areas)\n",
    "\n",
    "print(\"\\nPenggunaan areas.index(20.0) pada Lists\")\n",
    "# Print out the index of the element 20.0\n",
    "print(\"Hasil:\", areas.index(20.0))\n",
    "\n",
    "print(\"\\nPenggunaan areas.count(9.50) pada Lists\")\n",
    "# Print out how often 9.50 appears in areas\n",
    "print(\"Hasil:\", areas.count(9.50))"
   ]
  },
  {
   "cell_type": "markdown",
   "metadata": {},
   "source": [
    "List Methods(2)"
   ]
  },
  {
   "cell_type": "code",
   "execution_count": 3,
   "metadata": {},
   "outputs": [
    {
     "name": "stdout",
     "output_type": "stream",
     "text": [
      "List Methods\n",
      "===================================\n",
      "Create List Areas\n",
      "[11.25, 18.0, 20.0, 10.75, 9.5]\n",
      "\n",
      "Append\n",
      "Hasil append areas: [11.25, 18.0, 20.0, 10.75, 9.5, 24.5, 15.45]\n",
      "\n",
      "Reverse\n",
      "Hasil reverse areas: [15.45, 24.5, 9.5, 10.75, 20.0, 18.0, 11.25]\n"
     ]
    }
   ],
   "source": [
    "print(\"List Methods\")\n",
    "print(\"===================================\")\n",
    "# Create list areas\n",
    "print(\"Create List Areas\")\n",
    "areas = [11.25, 18.0, 20.0, 10.75, 9.50]\n",
    "print(areas)\n",
    "\n",
    "# Use append twice to add poolhouse and garage size\n",
    "areas.append(24.50)\n",
    "areas.append(15.45)\n",
    "\n",
    "# Print out areas\n",
    "print(\"\\nAppend\")\n",
    "print(\"Hasil append areas:\", areas)\n",
    "\n",
    "# Reverse the orders of the elements in areas\n",
    "areas.reverse()\n",
    "\n",
    "# Print out areas\n",
    "print(\"\\nReverse\")\n",
    "print(\"Hasil reverse areas:\", areas)"
   ]
  }
 ],
 "metadata": {
  "kernelspec": {
   "display_name": "Python 3",
   "language": "python",
   "name": "python3"
  },
  "language_info": {
   "codemirror_mode": {
    "name": "ipython",
    "version": 3
   },
   "file_extension": ".py",
   "mimetype": "text/x-python",
   "name": "python",
   "nbconvert_exporter": "python",
   "pygments_lexer": "ipython3",
   "version": "3.13.0"
  }
 },
 "nbformat": 4,
 "nbformat_minor": 2
}
