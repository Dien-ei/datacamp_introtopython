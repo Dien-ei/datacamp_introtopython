{
 "cells": [
  {
   "cell_type": "markdown",
   "metadata": {},
   "source": [
    "# List"
   ]
  },
  {
   "cell_type": "markdown",
   "metadata": {},
   "source": [
    "1. [a, b, c]\n",
    "2. Bisa diisi dengan bermacam-macam tipe data"
   ]
  },
  {
   "cell_type": "code",
   "execution_count": 5,
   "metadata": {},
   "outputs": [
    {
     "name": "stdout",
     "output_type": "stream",
     "text": [
      "LIST\n",
      "=============================================\n",
      "Lists\n",
      "[1.8, 1.67, 1.57, 1.61]\n"
     ]
    }
   ],
   "source": [
    "print(\"LIST\")\n",
    "print(\"=============================================\")\n",
    "#Just float\n",
    "print(\"Lists\")\n",
    "height = [1.80, 1.67, 1.57, 1.61]\n",
    "print(height)"
   ]
  },
  {
   "cell_type": "markdown",
   "metadata": {},
   "source": [
    "# Mixed Variable"
   ]
  },
  {
   "cell_type": "code",
   "execution_count": 1,
   "metadata": {},
   "outputs": [
    {
     "name": "stdout",
     "output_type": "stream",
     "text": [
      "\n",
      "Mixed Variable\n",
      "['liz', 1.8, 'monica', 1.67, 'aribah', 1.57, 'annisa', 1.61]\n"
     ]
    }
   ],
   "source": [
    "#Mixed variable\n",
    "print(\"\\nMixed Variable\")\n",
    "height2 = [\"liz\", 1.80, \"monica\", 1.67, \"aribah\", 1.57, \"annisa\", 1.61]\n",
    "print(height2)"
   ]
  },
  {
   "cell_type": "markdown",
   "metadata": {},
   "source": [
    "# List in List"
   ]
  },
  {
   "cell_type": "code",
   "execution_count": 2,
   "metadata": {},
   "outputs": [
    {
     "name": "stdout",
     "output_type": "stream",
     "text": [
      "\n",
      "List in list\n",
      "[['liz', 1.8], ['monica', 1.67], ['aribah', 1.57], ['annisa', 1.61]]\n"
     ]
    }
   ],
   "source": [
    "#List in list\n",
    "print(\"\\nList in list\")\n",
    "height3 = [[\"liz\", 1.80],\n",
    "           [\"monica\", 1.67],\n",
    "           [\"aribah\", 1.57],\n",
    "           [\"annisa\", 1.61]\n",
    "           ]\n",
    "\n",
    "print(height3)"
   ]
  },
  {
   "cell_type": "markdown",
   "metadata": {},
   "source": [
    "# Subsetting lists"
   ]
  },
  {
   "cell_type": "code",
   "execution_count": 9,
   "metadata": {},
   "outputs": [
    {
     "name": "stdout",
     "output_type": "stream",
     "text": [
      "\n",
      "Subsetting lists\n",
      "1.57\n",
      "['aribah', 1.57]\n",
      "['aribah', 1.57, 'annisa', 1.6]\n",
      "['nirwana', 1.77, 'monica', 1.67]\n",
      "1.61\n"
     ]
    }
   ],
   "source": [
    "#Subsetting lists\n",
    "print(\"\\nSubsetting lists\")\n",
    "print(height[2])\n",
    "print(height2[4:6])\n",
    "print(height2[4:])\n",
    "print(height2[:4])\n",
    "print(height3[-1][1])"
   ]
  },
  {
   "cell_type": "markdown",
   "metadata": {},
   "source": [
    "# Change List"
   ]
  },
  {
   "cell_type": "code",
   "execution_count": 4,
   "metadata": {},
   "outputs": [
    {
     "name": "stdout",
     "output_type": "stream",
     "text": [
      "\n",
      "Change lists\n",
      "['liz', 1.8, 'monica', 1.67, 'aribah', 1.57, 'annisa', 1.6]\n",
      "['nirwana', 1.77, 'monica', 1.67, 'aribah', 1.57, 'annisa', 1.6]\n"
     ]
    }
   ],
   "source": [
    "#Change list\n",
    "print(\"\\nChange lists\")\n",
    "height2[-1] = 1.60\n",
    "print(height2)\n",
    "\n",
    "height2[0:2] = [\"nirwana\", 1.77]\n",
    "print(height2)"
   ]
  },
  {
   "cell_type": "markdown",
   "metadata": {},
   "source": [
    "# Add List"
   ]
  },
  {
   "cell_type": "code",
   "execution_count": 7,
   "metadata": {},
   "outputs": [
    {
     "name": "stdout",
     "output_type": "stream",
     "text": [
      "\n",
      "Add lists\n",
      "['nirwana', 1.77, 'monica', 1.67, 'aribah', 1.57, 'annisa', 1.6, 'anggi', 1.55]\n"
     ]
    }
   ],
   "source": [
    "#Add list\n",
    "print(\"\\nAdd lists\")\n",
    "height_new = height2 + [\"anggi\", 1.55]\n",
    "print(height_new)"
   ]
  },
  {
   "cell_type": "markdown",
   "metadata": {},
   "source": [
    "# Delete List"
   ]
  },
  {
   "cell_type": "code",
   "execution_count": 8,
   "metadata": {},
   "outputs": [
    {
     "name": "stdout",
     "output_type": "stream",
     "text": [
      "\n",
      "Delete lists\n",
      "['nirwana', 1.77, 'aribah', 1.57, 'annisa', 1.6, 'anggi', 1.55]\n"
     ]
    }
   ],
   "source": [
    "#Delete list\n",
    "print(\"\\nDelete lists\")\n",
    "del height_new [2:4]\n",
    "print(height_new)"
   ]
  }
 ],
 "metadata": {
  "kernelspec": {
   "display_name": "Python 3",
   "language": "python",
   "name": "python3"
  },
  "language_info": {
   "codemirror_mode": {
    "name": "ipython",
    "version": 3
   },
   "file_extension": ".py",
   "mimetype": "text/x-python",
   "name": "python",
   "nbconvert_exporter": "python",
   "pygments_lexer": "ipython3",
   "version": "3.13.0"
  }
 },
 "nbformat": 4,
 "nbformat_minor": 2
}
