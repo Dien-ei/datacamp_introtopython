{
 "cells": [
  {
   "cell_type": "markdown",
   "metadata": {},
   "source": [
    "# Functions"
   ]
  },
  {
   "cell_type": "markdown",
   "metadata": {},
   "source": [
    "1. Bagian dari kode yang dapat digunakan kembali, yang ditunjukkan untuk menyelesaikan tugas tertentu.\n",
    "2. Min(), max(), round()"
   ]
  },
  {
   "cell_type": "code",
   "execution_count": 3,
   "metadata": {},
   "outputs": [
    {
     "name": "stdout",
     "output_type": "stream",
     "text": [
      "FUNCTIONS\n",
      "=====================================\n",
      "Data\n",
      "[1.8, 1.67, 1.57, 1.61]\n"
     ]
    }
   ],
   "source": [
    "print(\"FUNCTIONS\")\n",
    "print(\"=====================================\")\n",
    "print(\"Data\")\n",
    "height= [1.80, 1.67, 1.57, 1.61]\n",
    "print(height)"
   ]
  },
  {
   "cell_type": "markdown",
   "metadata": {},
   "source": [
    "Max()"
   ]
  },
  {
   "cell_type": "code",
   "execution_count": 4,
   "metadata": {},
   "outputs": [
    {
     "name": "stdout",
     "output_type": "stream",
     "text": [
      "\n",
      "Max\n",
      "1.8\n"
     ]
    }
   ],
   "source": [
    "#Max\n",
    "print(\"\\nMax\")\n",
    "print(max(height))"
   ]
  },
  {
   "cell_type": "markdown",
   "metadata": {},
   "source": [
    "Min()"
   ]
  },
  {
   "cell_type": "code",
   "execution_count": 5,
   "metadata": {},
   "outputs": [
    {
     "name": "stdout",
     "output_type": "stream",
     "text": [
      "\n",
      "Min\n",
      "1.57\n"
     ]
    }
   ],
   "source": [
    "#Min\n",
    "print(\"\\nMin\")\n",
    "print(min(height))"
   ]
  },
  {
   "cell_type": "markdown",
   "metadata": {},
   "source": [
    "Round()"
   ]
  },
  {
   "cell_type": "code",
   "execution_count": 6,
   "metadata": {},
   "outputs": [
    {
     "name": "stdout",
     "output_type": "stream",
     "text": [
      "\n",
      "Round\n",
      "1.6\n",
      "2\n"
     ]
    }
   ],
   "source": [
    "#Round\n",
    "print(\"\\nRound\")\n",
    "print(round(1.57, 1))\n",
    "print(round(1.57))"
   ]
  },
  {
   "cell_type": "markdown",
   "metadata": {},
   "source": [
    "Fitur untuk memberikan informasi \"help()\" or \"?round\""
   ]
  },
  {
   "cell_type": "code",
   "execution_count": 2,
   "metadata": {},
   "outputs": [
    {
     "name": "stdout",
     "output_type": "stream",
     "text": [
      "Help on built-in function round in module builtins:\n",
      "\n",
      "round(number, ndigits=None)\n",
      "    Round a number to a given precision in decimal digits.\n",
      "\n",
      "    The return value is an integer if ndigits is omitted or None.  Otherwise\n",
      "    the return value has the same type as the number.  ndigits may be negative.\n",
      "\n"
     ]
    }
   ],
   "source": [
    "help(round)"
   ]
  },
  {
   "cell_type": "markdown",
   "metadata": {},
   "source": [
    "Familiar Functions"
   ]
  },
  {
   "cell_type": "code",
   "execution_count": 7,
   "metadata": {},
   "outputs": [
    {
     "name": "stdout",
     "output_type": "stream",
     "text": [
      "\n",
      "Familiar Functions\n",
      "[1, 2, 3, 4]\n",
      "True\n",
      "\n",
      "Type Var1\n",
      "<class 'list'>\n",
      "\n",
      "Length Var1\n",
      "4\n",
      "\n",
      "Convert Var2 to Integer\n",
      "1\n"
     ]
    }
   ],
   "source": [
    "print(\"\\nFamiliar Functions\")\n",
    "# Create variables var1 and var2\n",
    "var1 = [1, 2, 3, 4]\n",
    "var2 = True\n",
    "print(var1)\n",
    "print(var2)\n",
    "\n",
    "print(\"\\nType Var1\")\n",
    "# Print out type of var1\n",
    "print(type(var1))\n",
    "\n",
    "print(\"\\nLength Var1\")\n",
    "# Print out length of var1\n",
    "print(len(var1))\n",
    "\n",
    "print(\"\\nConvert Var2 to Integer\")\n",
    "# Convert var2 to an integer: out2\n",
    "out2 = int(var2)\n",
    "print(out2)"
   ]
  },
  {
   "cell_type": "markdown",
   "metadata": {},
   "source": [
    "Multiple Arguments"
   ]
  },
  {
   "cell_type": "code",
   "execution_count": 8,
   "metadata": {},
   "outputs": [
    {
     "name": "stdout",
     "output_type": "stream",
     "text": [
      "\n",
      "Multiple Arguments\n",
      "===============================\n",
      "Data\n",
      "[11.25, 18.0, 20.0]\n",
      "[10.75, 9.5]\n",
      "\n",
      "Paste first + second\n",
      "[11.25, 18.0, 20.0, 10.75, 9.5]\n",
      "\n",
      "Sorted(reverse=True)\n",
      "[20.0, 18.0, 11.25, 10.75, 9.5]\n"
     ]
    }
   ],
   "source": [
    "print(\"\\nMultiple Arguments\")\n",
    "print(\"===============================\")\n",
    "# Create lists first and second\n",
    "print(\"Data\")\n",
    "first = [11.25, 18.0, 20.0]\n",
    "second = [10.75, 9.50]\n",
    "print(first)\n",
    "print(second)\n",
    "\n",
    "# Paste together first and second: full\n",
    "print(\"\\nPaste first + second\")\n",
    "full = first + second\n",
    "print(full)\n",
    "\n",
    "# Sort full in descending order: full_sorted\n",
    "print(\"\\nSorted(reverse=True)\")\n",
    "full_sorted = sorted(full, reverse=True)\n",
    "#True: Dari Besar ke Kecil\n",
    "#False: Dari Kecil ke Besar\n",
    "\n",
    "# Print out full_sorted\n",
    "print(full_sorted)"
   ]
  }
 ],
 "metadata": {
  "kernelspec": {
   "display_name": "Python 3",
   "language": "python",
   "name": "python3"
  },
  "language_info": {
   "codemirror_mode": {
    "name": "ipython",
    "version": 3
   },
   "file_extension": ".py",
   "mimetype": "text/x-python",
   "name": "python",
   "nbconvert_exporter": "python",
   "pygments_lexer": "ipython3",
   "version": "3.13.0"
  }
 },
 "nbformat": 4,
 "nbformat_minor": 2
}
